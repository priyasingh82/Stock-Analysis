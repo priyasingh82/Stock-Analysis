{
 "cells": [
  {
   "cell_type": "markdown",
   "metadata": {},
   "source": [
    "# Module 5 - Modern Portfolio Theory"
   ]
  },
  {
   "cell_type": "markdown",
   "metadata": {},
   "source": [
    "   ### Welcome to the Answer notebook for Module 5 ! \n",
    "Make sure that you've submitted the module 4 notebook and unlocked Module 5 yourself before you start coding here\n"
   ]
  },
  {
   "cell_type": "markdown",
   "metadata": {},
   "source": [
    "#--------------------------------------------------------------------------------------------------------------------------------------------------------------------------------------------------------#"
   ]
  },
  {
   "cell_type": "markdown",
   "metadata": {},
   "source": [
    "### Query 5.1 \n",
    "5.1 For your chosen stock, calculate the mean daily return and daily standard deviation of returns, and then just annualise them to get mean expected annual return and volatility of that single stock. **( annual mean = daily mean * 252 , annual stdev = daily stdev * sqrt(252) )**"
   ]
  },
  {
   "cell_type": "code",
   "execution_count": 1,
   "metadata": {},
   "outputs": [
    {
     "data": {
      "text/html": [
       "<div>\n",
       "<style scoped>\n",
       "    .dataframe tbody tr th:only-of-type {\n",
       "        vertical-align: middle;\n",
       "    }\n",
       "\n",
       "    .dataframe tbody tr th {\n",
       "        vertical-align: top;\n",
       "    }\n",
       "\n",
       "    .dataframe thead th {\n",
       "        text-align: right;\n",
       "    }\n",
       "</style>\n",
       "<table border=\"1\" class=\"dataframe\">\n",
       "  <thead>\n",
       "    <tr style=\"text-align: right;\">\n",
       "      <th></th>\n",
       "      <th>Symbol</th>\n",
       "      <th>Series</th>\n",
       "      <th>Date</th>\n",
       "      <th>Prev Close</th>\n",
       "      <th>Open Price</th>\n",
       "      <th>High Price</th>\n",
       "      <th>Low Price</th>\n",
       "      <th>Last Price</th>\n",
       "      <th>Close Price</th>\n",
       "      <th>Average Price</th>\n",
       "      <th>Total Traded Quantity</th>\n",
       "      <th>Turnover</th>\n",
       "      <th>No. of Trades</th>\n",
       "      <th>Deliverable Qty</th>\n",
       "      <th>% Dly Qt to Traded Qty</th>\n",
       "    </tr>\n",
       "  </thead>\n",
       "  <tbody>\n",
       "    <tr>\n",
       "      <th>489</th>\n",
       "      <td>HEROMOTOCO</td>\n",
       "      <td>EQ</td>\n",
       "      <td>07-May-2019</td>\n",
       "      <td>2531.30</td>\n",
       "      <td>2567.9</td>\n",
       "      <td>2568.00</td>\n",
       "      <td>2521.50</td>\n",
       "      <td>2529.00</td>\n",
       "      <td>2527.35</td>\n",
       "      <td>2546.23</td>\n",
       "      <td>347427</td>\n",
       "      <td>8.846276e+08</td>\n",
       "      <td>29584</td>\n",
       "      <td>129747</td>\n",
       "      <td>37.35</td>\n",
       "    </tr>\n",
       "    <tr>\n",
       "      <th>490</th>\n",
       "      <td>HEROMOTOCO</td>\n",
       "      <td>EQ</td>\n",
       "      <td>08-May-2019</td>\n",
       "      <td>2527.35</td>\n",
       "      <td>2525.8</td>\n",
       "      <td>2540.85</td>\n",
       "      <td>2481.60</td>\n",
       "      <td>2496.00</td>\n",
       "      <td>2499.70</td>\n",
       "      <td>2515.26</td>\n",
       "      <td>406025</td>\n",
       "      <td>1.021259e+09</td>\n",
       "      <td>32136</td>\n",
       "      <td>176406</td>\n",
       "      <td>43.45</td>\n",
       "    </tr>\n",
       "    <tr>\n",
       "      <th>491</th>\n",
       "      <td>HEROMOTOCO</td>\n",
       "      <td>EQ</td>\n",
       "      <td>09-May-2019</td>\n",
       "      <td>2499.70</td>\n",
       "      <td>2499.0</td>\n",
       "      <td>2555.00</td>\n",
       "      <td>2490.60</td>\n",
       "      <td>2540.00</td>\n",
       "      <td>2537.75</td>\n",
       "      <td>2536.33</td>\n",
       "      <td>585480</td>\n",
       "      <td>1.484972e+09</td>\n",
       "      <td>40511</td>\n",
       "      <td>203100</td>\n",
       "      <td>34.69</td>\n",
       "    </tr>\n",
       "    <tr>\n",
       "      <th>492</th>\n",
       "      <td>HEROMOTOCO</td>\n",
       "      <td>EQ</td>\n",
       "      <td>10-May-2019</td>\n",
       "      <td>2537.75</td>\n",
       "      <td>2535.0</td>\n",
       "      <td>2560.00</td>\n",
       "      <td>2500.05</td>\n",
       "      <td>2506.05</td>\n",
       "      <td>2507.30</td>\n",
       "      <td>2529.09</td>\n",
       "      <td>332771</td>\n",
       "      <td>8.416086e+08</td>\n",
       "      <td>23272</td>\n",
       "      <td>118956</td>\n",
       "      <td>35.75</td>\n",
       "    </tr>\n",
       "    <tr>\n",
       "      <th>493</th>\n",
       "      <td>HEROMOTOCO</td>\n",
       "      <td>EQ</td>\n",
       "      <td>13-May-2019</td>\n",
       "      <td>2507.30</td>\n",
       "      <td>2507.3</td>\n",
       "      <td>2537.50</td>\n",
       "      <td>2500.00</td>\n",
       "      <td>2509.05</td>\n",
       "      <td>2510.75</td>\n",
       "      <td>2520.21</td>\n",
       "      <td>313902</td>\n",
       "      <td>7.911003e+08</td>\n",
       "      <td>23484</td>\n",
       "      <td>117837</td>\n",
       "      <td>37.54</td>\n",
       "    </tr>\n",
       "  </tbody>\n",
       "</table>\n",
       "</div>"
      ],
      "text/plain": [
       "         Symbol Series         Date  Prev Close  Open Price  High Price  \\\n",
       "489  HEROMOTOCO     EQ  07-May-2019     2531.30      2567.9     2568.00   \n",
       "490  HEROMOTOCO     EQ  08-May-2019     2527.35      2525.8     2540.85   \n",
       "491  HEROMOTOCO     EQ  09-May-2019     2499.70      2499.0     2555.00   \n",
       "492  HEROMOTOCO     EQ  10-May-2019     2537.75      2535.0     2560.00   \n",
       "493  HEROMOTOCO     EQ  13-May-2019     2507.30      2507.3     2537.50   \n",
       "\n",
       "     Low Price  Last Price  Close Price  Average Price  Total Traded Quantity  \\\n",
       "489    2521.50     2529.00      2527.35        2546.23                 347427   \n",
       "490    2481.60     2496.00      2499.70        2515.26                 406025   \n",
       "491    2490.60     2540.00      2537.75        2536.33                 585480   \n",
       "492    2500.05     2506.05      2507.30        2529.09                 332771   \n",
       "493    2500.00     2509.05      2510.75        2520.21                 313902   \n",
       "\n",
       "         Turnover  No. of Trades  Deliverable Qty  % Dly Qt to Traded Qty  \n",
       "489  8.846276e+08          29584           129747                   37.35  \n",
       "490  1.021259e+09          32136           176406                   43.45  \n",
       "491  1.484972e+09          40511           203100                   34.69  \n",
       "492  8.416086e+08          23272           118956                   35.75  \n",
       "493  7.911003e+08          23484           117837                   37.54  "
      ]
     },
     "execution_count": 1,
     "metadata": {},
     "output_type": "execute_result"
    }
   ],
   "source": [
    "import pandas as pd\n",
    "import math\n",
    "data=pd.read_csv('HEROMOTOCO.csv')\n",
    "data.tail()"
   ]
  },
  {
   "cell_type": "code",
   "execution_count": 2,
   "metadata": {},
   "outputs": [
    {
     "data": {
      "text/html": [
       "<div>\n",
       "<style scoped>\n",
       "    .dataframe tbody tr th:only-of-type {\n",
       "        vertical-align: middle;\n",
       "    }\n",
       "\n",
       "    .dataframe tbody tr th {\n",
       "        vertical-align: top;\n",
       "    }\n",
       "\n",
       "    .dataframe thead th {\n",
       "        text-align: right;\n",
       "    }\n",
       "</style>\n",
       "<table border=\"1\" class=\"dataframe\">\n",
       "  <thead>\n",
       "    <tr style=\"text-align: right;\">\n",
       "      <th></th>\n",
       "      <th>Symbol</th>\n",
       "      <th>Series</th>\n",
       "      <th>Date</th>\n",
       "      <th>Prev Close</th>\n",
       "      <th>Open Price</th>\n",
       "      <th>High Price</th>\n",
       "      <th>Low Price</th>\n",
       "      <th>Last Price</th>\n",
       "      <th>Close Price</th>\n",
       "      <th>Average Price</th>\n",
       "      <th>Total Traded Quantity</th>\n",
       "      <th>Turnover</th>\n",
       "      <th>No. of Trades</th>\n",
       "      <th>Deliverable Qty</th>\n",
       "      <th>% Dly Qt to Traded Qty</th>\n",
       "      <th>Daily_Return</th>\n",
       "    </tr>\n",
       "  </thead>\n",
       "  <tbody>\n",
       "    <tr>\n",
       "      <th>0</th>\n",
       "      <td>HEROMOTOCO</td>\n",
       "      <td>EQ</td>\n",
       "      <td>15-May-2017</td>\n",
       "      <td>3541.50</td>\n",
       "      <td>3541.0</td>\n",
       "      <td>3558.00</td>\n",
       "      <td>3504.60</td>\n",
       "      <td>3518.0</td>\n",
       "      <td>3515.45</td>\n",
       "      <td>3519.65</td>\n",
       "      <td>215587</td>\n",
       "      <td>7.587906e+08</td>\n",
       "      <td>17129</td>\n",
       "      <td>110769</td>\n",
       "      <td>51.38</td>\n",
       "      <td>-25.55</td>\n",
       "    </tr>\n",
       "    <tr>\n",
       "      <th>1</th>\n",
       "      <td>HEROMOTOCO</td>\n",
       "      <td>EQ</td>\n",
       "      <td>16-May-2017</td>\n",
       "      <td>3515.45</td>\n",
       "      <td>3529.5</td>\n",
       "      <td>3631.80</td>\n",
       "      <td>3491.10</td>\n",
       "      <td>3623.0</td>\n",
       "      <td>3619.40</td>\n",
       "      <td>3561.42</td>\n",
       "      <td>372398</td>\n",
       "      <td>1.326266e+09</td>\n",
       "      <td>33654</td>\n",
       "      <td>147610</td>\n",
       "      <td>39.64</td>\n",
       "      <td>89.90</td>\n",
       "    </tr>\n",
       "    <tr>\n",
       "      <th>2</th>\n",
       "      <td>HEROMOTOCO</td>\n",
       "      <td>EQ</td>\n",
       "      <td>17-May-2017</td>\n",
       "      <td>3619.40</td>\n",
       "      <td>3615.0</td>\n",
       "      <td>3683.95</td>\n",
       "      <td>3595.05</td>\n",
       "      <td>3634.1</td>\n",
       "      <td>3645.95</td>\n",
       "      <td>3651.06</td>\n",
       "      <td>338342</td>\n",
       "      <td>1.235308e+09</td>\n",
       "      <td>27003</td>\n",
       "      <td>160855</td>\n",
       "      <td>47.54</td>\n",
       "      <td>30.95</td>\n",
       "    </tr>\n",
       "    <tr>\n",
       "      <th>3</th>\n",
       "      <td>HEROMOTOCO</td>\n",
       "      <td>EQ</td>\n",
       "      <td>18-May-2017</td>\n",
       "      <td>3645.95</td>\n",
       "      <td>3600.0</td>\n",
       "      <td>3639.00</td>\n",
       "      <td>3577.05</td>\n",
       "      <td>3586.0</td>\n",
       "      <td>3592.05</td>\n",
       "      <td>3602.46</td>\n",
       "      <td>294013</td>\n",
       "      <td>1.059170e+09</td>\n",
       "      <td>23822</td>\n",
       "      <td>143430</td>\n",
       "      <td>48.78</td>\n",
       "      <td>-7.95</td>\n",
       "    </tr>\n",
       "    <tr>\n",
       "      <th>4</th>\n",
       "      <td>HEROMOTOCO</td>\n",
       "      <td>EQ</td>\n",
       "      <td>19-May-2017</td>\n",
       "      <td>3592.05</td>\n",
       "      <td>3597.0</td>\n",
       "      <td>3656.00</td>\n",
       "      <td>3533.75</td>\n",
       "      <td>3565.0</td>\n",
       "      <td>3571.65</td>\n",
       "      <td>3593.06</td>\n",
       "      <td>270446</td>\n",
       "      <td>9.717284e+08</td>\n",
       "      <td>26291</td>\n",
       "      <td>113208</td>\n",
       "      <td>41.86</td>\n",
       "      <td>-25.35</td>\n",
       "    </tr>\n",
       "  </tbody>\n",
       "</table>\n",
       "</div>"
      ],
      "text/plain": [
       "       Symbol Series         Date  Prev Close  Open Price  High Price  \\\n",
       "0  HEROMOTOCO     EQ  15-May-2017     3541.50      3541.0     3558.00   \n",
       "1  HEROMOTOCO     EQ  16-May-2017     3515.45      3529.5     3631.80   \n",
       "2  HEROMOTOCO     EQ  17-May-2017     3619.40      3615.0     3683.95   \n",
       "3  HEROMOTOCO     EQ  18-May-2017     3645.95      3600.0     3639.00   \n",
       "4  HEROMOTOCO     EQ  19-May-2017     3592.05      3597.0     3656.00   \n",
       "\n",
       "   Low Price  Last Price  Close Price  Average Price  Total Traded Quantity  \\\n",
       "0    3504.60      3518.0      3515.45        3519.65                 215587   \n",
       "1    3491.10      3623.0      3619.40        3561.42                 372398   \n",
       "2    3595.05      3634.1      3645.95        3651.06                 338342   \n",
       "3    3577.05      3586.0      3592.05        3602.46                 294013   \n",
       "4    3533.75      3565.0      3571.65        3593.06                 270446   \n",
       "\n",
       "       Turnover  No. of Trades  Deliverable Qty  % Dly Qt to Traded Qty  \\\n",
       "0  7.587906e+08          17129           110769                   51.38   \n",
       "1  1.326266e+09          33654           147610                   39.64   \n",
       "2  1.235308e+09          27003           160855                   47.54   \n",
       "3  1.059170e+09          23822           143430                   48.78   \n",
       "4  9.717284e+08          26291           113208                   41.86   \n",
       "\n",
       "   Daily_Return  \n",
       "0        -25.55  \n",
       "1         89.90  \n",
       "2         30.95  \n",
       "3         -7.95  \n",
       "4        -25.35  "
      ]
     },
     "execution_count": 2,
     "metadata": {},
     "output_type": "execute_result"
    }
   ],
   "source": [
    "data['Daily_Return']=data['Close Price']-data['Open Price']\n",
    "data.head()"
   ]
  },
  {
   "cell_type": "code",
   "execution_count": 3,
   "metadata": {},
   "outputs": [
    {
     "data": {
      "text/plain": [
       "-2007.9655870445356"
      ]
     },
     "execution_count": 3,
     "metadata": {},
     "output_type": "execute_result"
    }
   ],
   "source": [
    "a=data['Daily_Return'].mean()\n",
    "annual_mean = a*252\n",
    "annual_mean"
   ]
  },
  {
   "cell_type": "code",
   "execution_count": 4,
   "metadata": {},
   "outputs": [
    {
     "data": {
      "text/plain": [
       "758.1983403987102"
      ]
     },
     "execution_count": 4,
     "metadata": {},
     "output_type": "execute_result"
    }
   ],
   "source": [
    "b=data['Daily_Return'].std()\n",
    "c=math.sqrt(252)\n",
    "annual_std=b*c\n",
    "annual_std"
   ]
  },
  {
   "cell_type": "code",
   "execution_count": null,
   "metadata": {},
   "outputs": [],
   "source": []
  },
  {
   "cell_type": "markdown",
   "metadata": {},
   "source": [
    " Q.2 Now, we need to diversify our portfolio. Build your own portfolio by choosing any 5 stocks, preferably of different sectors and different caps. Assume that all 5 have the same weightage, i.e. 20% . Now calculate the annual returns and volatility of the entire portfolio ( Hint : Don't forget to use the covariance )"
   ]
  },
  {
   "cell_type": "code",
   "execution_count": 5,
   "metadata": {},
   "outputs": [],
   "source": [
    "data1=pd.read_csv('HEROMOTOCO.csv')\n",
    "data2=pd.read_csv('FORTIS.csv')\n",
    "data3=pd.read_csv('JKLAKSHMI.csv')\n",
    "data4=pd.read_csv('IDFC.csv')\n",
    "data5=pd.read_csv('JETAIRWAYS.csv')"
   ]
  },
  {
   "cell_type": "code",
   "execution_count": 6,
   "metadata": {},
   "outputs": [],
   "source": [
    "data1['Daily_Return']=data1['Close Price']-data1['Open Price']\n",
    "data2['Daily_Return']=data2['Close Price']-data2['Open Price']\n",
    "data3['Daily_Return']=data3['Close Price']-data3['Open Price']\n",
    "data4['Daily_Return']=data4['Close Price']-data4['Open Price']\n",
    "data5['Daily_Return']=data5['Close Price']-data5['Open Price']"
   ]
  },
  {
   "cell_type": "code",
   "execution_count": 45,
   "metadata": {},
   "outputs": [],
   "source": [
    "a1=data1['Daily_Return'].mean()\n",
    "a2=data2['Daily_Return'].mean()\n",
    "a3=data3['Daily_Return'].mean()\n",
    "a4=data4['Daily_Return'].mean()\n",
    "a5=data5['Daily_Return'].mean()\n",
    "\n",
    "x1=[data1['Daily_Return']]\n",
    "x2=[data2['Daily_Return']]\n",
    "x3=[data3['Daily_Return']]\n",
    "x4=[data4['Daily_Return']]\n",
    "#print(x)"
   ]
  },
  {
   "cell_type": "code",
   "execution_count": 8,
   "metadata": {},
   "outputs": [],
   "source": [
    "annual_mean1 = a1*252\n",
    "annual_mean2 = a2*252\n",
    "annual_mean3 = a3*252\n",
    "annual_mean4 = a4*252\n",
    "annual_mean5 = a5*252"
   ]
  },
  {
   "cell_type": "code",
   "execution_count": 46,
   "metadata": {},
   "outputs": [],
   "source": [
    "import numpy as np\n",
    "b1=data1['Daily_Return'].rolling(2).std()\n",
    "b2=data2['Daily_Return'].rolling(2).std()\n",
    "b3=data3['Daily_Return'].rolling(2).std()\n",
    "b4=data4['Daily_Return'].rolling(2).std()\n",
    "b5=data5['Daily_Return'].rolling(2).std()\n",
    "b1= b1.replace(np.nan, 0)\n",
    "b2= b2.replace(np.nan,0)\n",
    "b3= b3.replace(np.nan,0)\n",
    "b3= b3.replace(np.nan,0)\n",
    "y1=b1\n",
    "y2=b2\n",
    "y3=b3\n",
    "y4=b4\n",
    "#print(y)"
   ]
  },
  {
   "cell_type": "code",
   "execution_count": 10,
   "metadata": {},
   "outputs": [],
   "source": [
    "c=math.sqrt(252)\n",
    "annual_std1=b1*c\n",
    "annual_std2=b2*c\n",
    "annual_std3=b3*c\n",
    "annual_std4=b4*c\n",
    "annual_std5=b5*c"
   ]
  },
  {
   "cell_type": "code",
   "execution_count": 11,
   "metadata": {},
   "outputs": [
    {
     "data": {
      "text/plain": [
       "-1.9791931051404736"
      ]
     },
     "execution_count": 11,
     "metadata": {},
     "output_type": "execute_result"
    }
   ],
   "source": [
    "portfolio_annual_return=0.2*a1+0.2*a2+0.2*a3+0.2*a4+0.2*a5\n",
    "portfolio_annual_return"
   ]
  },
  {
   "cell_type": "code",
   "execution_count": 12,
   "metadata": {},
   "outputs": [
    {
     "data": {
      "text/plain": [
       "14.823239931336268"
      ]
     },
     "execution_count": 12,
     "metadata": {},
     "output_type": "execute_result"
    }
   ],
   "source": [
    "portfolio_annual_volatility=0.2*b1+0.2*b2+0.2*b3+0.2*b4+0.2*b5\n",
    "portfolio_annual_volatility"
   ]
  },
  {
   "cell_type": "code",
   "execution_count": null,
   "metadata": {},
   "outputs": [],
   "source": []
  },
  {
   "cell_type": "markdown",
   "metadata": {},
   "source": [
    "5.3 Prepare a scatter plot for differing weights of the individual stocks in the portfolio , the axes being the returns and volatility. Colour the data points based on the Sharpe Ratio ( Returns/Volatility) of that particular portfolio."
   ]
  },
  {
   "cell_type": "code",
   "execution_count": 47,
   "metadata": {},
   "outputs": [
    {
     "data": {
      "image/png": "[encoded data removed]",
      "text/plain": [
       "<Figure size 432x288 with 1 Axes>"
      ]
     },
     "metadata": {},
     "output_type": "display_data"
    }
   ],
   "source": [
    "import matplotlib.pyplot as plt\n",
    "\n",
    "\n",
    "plt.scatter(x2, y2,  color='r')\n",
    "plt.scatter(x3, y3,  color='g')\n",
    "plt.scatter(x4, y4,  color='b')\n",
    "plt.title('graph')\n",
    "plt.xlabel('return')\n",
    "plt.ylabel('volatility')\n",
    "plt.show()\n"
   ]
  },
  {
   "cell_type": "code",
   "execution_count": null,
   "metadata": {},
   "outputs": [],
   "source": []
  }
 ],
 "metadata": {
  "kernelspec": {
   "display_name": "Python 3",
   "language": "python",
   "name": "python3"
  },
  "language_info": {
   "codemirror_mode": {
    "name": "ipython",
    "version": 3
   },
   "file_extension": ".py",
   "mimetype": "text/x-python",
   "name": "python",
   "nbconvert_exporter": "python",
   "pygments_lexer": "ipython3",
   "version": "3.6.5"
  }
 },
 "nbformat": 4,
 "nbformat_minor": 2
}
